{
  "nbformat": 4,
  "nbformat_minor": 0,
  "metadata": {
    "colab": {
      "name": "PseudoKnowYourMemes.ipynb",
      "provenance": [],
      "collapsed_sections": []
    },
    "kernelspec": {
      "name": "python3",
      "display_name": "Python 3"
    },
    "language_info": {
      "name": "python"
    },
    "accelerator": "GPU"
  },
  "cells": [
    {
      "cell_type": "markdown",
      "metadata": {
        "id": "fjOw1pdTvTt1"
      },
      "source": [
        "# PseudoKnowYourMemes"
      ]
    },
    {
      "cell_type": "markdown",
      "source": [
        "Connect drive, to be able to use the data easily."
      ],
      "metadata": {
        "id": "kCuYqbd7HILL"
      }
    },
    {
      "cell_type": "code",
      "metadata": {
        "colab": {
          "base_uri": "https://localhost:8080/"
        },
        "id": "nGcClxJ6G53L",
        "outputId": "b8fd70af-32d6-4bf6-c3dc-89c0cd01bfd0"
      },
      "source": [
        "from google.colab import drive\n",
        "drive.mount('/content/drive')"
      ],
      "execution_count": null,
      "outputs": [
        {
          "output_type": "stream",
          "name": "stdout",
          "text": [
            "Mounted at /content/drive\n"
          ]
        }
      ]
    },
    {
      "cell_type": "markdown",
      "source": [
        "We are going to mimic the notebook from class to classify memes based on their meme format. For example this one is a random Di Caprio format meme: https://i.kym-cdn.com/photos/images/newsfeed/001/887/154/fab.jpg"
      ],
      "metadata": {
        "id": "H_MTFbJgHTOy"
      }
    },
    {
      "cell_type": "code",
      "metadata": {
        "id": "SCprFxT851Ds"
      },
      "source": [
        "from tensorflow.keras.models import Model\n",
        "from tensorflow.keras.preprocessing.image import ImageDataGenerator\n",
        "from tensorflow.keras.applications.inception_v3 import InceptionV3,preprocess_input,decode_predictions\n",
        "from tensorflow.keras.preprocessing import image\n",
        "from tensorflow.keras.optimizers import SGD\n",
        "from tensorflow.keras.layers import Dense, GlobalAveragePooling2D\n",
        "from tensorflow.keras import backend as K\n",
        "import numpy as np"
      ],
      "execution_count": null,
      "outputs": []
    },
    {
      "cell_type": "code",
      "metadata": {
        "id": "0EguT7FY6CRs"
      },
      "source": [
        "img_height=299\n",
        "img_width=299"
      ],
      "execution_count": null,
      "outputs": []
    },
    {
      "cell_type": "code",
      "metadata": {
        "id": "Y_Ezl6jl6ERj"
      },
      "source": [
        "base_model = InceptionV3(weights='imagenet', include_top=False)\n",
        "x = base_model.output\n",
        "x = GlobalAveragePooling2D()(x)\n",
        "x = Dense(1024, activation='relu')(x)\n",
        "predictions = Dense(115, activation='softmax')(x)\n",
        "model = Model(inputs=base_model.input, outputs=predictions)"
      ],
      "execution_count": null,
      "outputs": []
    },
    {
      "cell_type": "code",
      "metadata": {
        "id": "doHhzra96SZW"
      },
      "source": [
        "for layer in base_model.layers:\n",
        "    layer.trainable = False\n",
        "model.compile(optimizer='adam', metrics=['accuracy'],loss='categorical_crossentropy')"
      ],
      "execution_count": null,
      "outputs": []
    },
    {
      "cell_type": "code",
      "metadata": {
        "colab": {
          "base_uri": "https://localhost:8080/"
        },
        "id": "T9HV4jhh6iLY",
        "outputId": "8939c9ce-8586-4297-cf2d-f47f653ecbc4"
      },
      "source": [
        "train_datagen = ImageDataGenerator(rescale=1./255, shear_range=0.2, zoom_range=0.2, horizontal_flip=True)\n",
        "validation_datagen = ImageDataGenerator(rescale=1./255)\n",
        "\n",
        "train_generator = train_datagen.flow_from_directory('./drive/MyDrive/PseudoKnowYourMemes/train/train', target_size=(img_height, img_width), batch_size=20, class_mode='categorical')\n",
        "validation_generator = validation_datagen.flow_from_directory('./drive/MyDrive/PseudoKnowYourMemes/valid/valid', target_size=(img_height, img_width), batch_size=20, class_mode='categorical')"
      ],
      "execution_count": null,
      "outputs": [
        {
          "output_type": "stream",
          "name": "stdout",
          "text": [
            "Found 1143 images belonging to 115 classes.\n",
            "Found 4573 images belonging to 115 classes.\n"
          ]
        }
      ]
    },
    {
      "cell_type": "code",
      "metadata": {
        "colab": {
          "base_uri": "https://localhost:8080/"
        },
        "id": "6uqiDDtH7URM",
        "outputId": "5c87f58b-1386-4cd9-ad39-6d99d0161ecd"
      },
      "source": [
        "model.fit_generator(train_generator,steps_per_epoch=50,validation_data=validation_generator,validation_steps=10,epochs=3)"
      ],
      "execution_count": null,
      "outputs": [
        {
          "output_type": "stream",
          "name": "stderr",
          "text": [
            "/usr/local/lib/python3.7/dist-packages/ipykernel_launcher.py:1: UserWarning: `Model.fit_generator` is deprecated and will be removed in a future version. Please use `Model.fit`, which supports generators.\n",
            "  \"\"\"Entry point for launching an IPython kernel.\n"
          ]
        },
        {
          "output_type": "stream",
          "name": "stdout",
          "text": [
            "Epoch 1/3\n",
            "50/50 [==============================] - 310s 6s/step - loss: 4.0470 - accuracy: 0.2543 - val_loss: 2.2540 - val_accuracy: 0.6700\n",
            "Epoch 2/3\n",
            "50/50 [==============================] - 103s 2s/step - loss: 1.2068 - accuracy: 0.8026 - val_loss: 0.8611 - val_accuracy: 0.8700\n",
            "Epoch 3/3\n",
            "50/50 [==============================] - 84s 2s/step - loss: 0.4152 - accuracy: 0.9349 - val_loss: 0.2905 - val_accuracy: 0.9450\n"
          ]
        },
        {
          "output_type": "execute_result",
          "data": {
            "text/plain": [
              "<keras.callbacks.History at 0x7f641e991e50>"
            ]
          },
          "metadata": {},
          "execution_count": 13
        }
      ]
    },
    {
      "cell_type": "code",
      "metadata": {
        "colab": {
          "base_uri": "https://localhost:8080/"
        },
        "id": "Er_qc0zxIiIC",
        "outputId": "3319560e-05f8-4429-e29c-a673340c6f0c"
      },
      "source": [
        "model.fit_generator(train_generator,steps_per_epoch=50,validation_data=validation_generator,validation_steps=10,epochs=3)"
      ],
      "execution_count": null,
      "outputs": [
        {
          "output_type": "stream",
          "name": "stderr",
          "text": [
            "/usr/local/lib/python3.7/dist-packages/ipykernel_launcher.py:1: UserWarning: `Model.fit_generator` is deprecated and will be removed in a future version. Please use `Model.fit`, which supports generators.\n",
            "  \"\"\"Entry point for launching an IPython kernel.\n"
          ]
        },
        {
          "output_type": "stream",
          "name": "stdout",
          "text": [
            "Epoch 1/3\n",
            "50/50 [==============================] - 75s 2s/step - loss: 0.2068 - accuracy: 0.9736 - val_loss: 0.3161 - val_accuracy: 0.9400\n",
            "Epoch 2/3\n",
            "50/50 [==============================] - 74s 1s/step - loss: 0.1223 - accuracy: 0.9888 - val_loss: 0.2135 - val_accuracy: 0.9700\n",
            "Epoch 3/3\n",
            "50/50 [==============================] - 70s 1s/step - loss: 0.0918 - accuracy: 0.9908 - val_loss: 0.1996 - val_accuracy: 0.9650\n"
          ]
        },
        {
          "output_type": "execute_result",
          "data": {
            "text/plain": [
              "<keras.callbacks.History at 0x7f64184c9310>"
            ]
          },
          "metadata": {},
          "execution_count": 14
        }
      ]
    },
    {
      "cell_type": "markdown",
      "metadata": {
        "id": "n8LYN7I6DCoB"
      },
      "source": [
        "Just a little more training"
      ]
    },
    {
      "cell_type": "code",
      "metadata": {
        "colab": {
          "base_uri": "https://localhost:8080/"
        },
        "id": "-ZQ52Wll7wmR",
        "outputId": "5e07675c-1e7e-4efd-9788-e9e1fab52569"
      },
      "source": [
        "model.fit_generator(train_generator,steps_per_epoch=50,validation_data=validation_generator,validation_steps=10,epochs=3)"
      ],
      "execution_count": null,
      "outputs": [
        {
          "output_type": "stream",
          "name": "stderr",
          "text": [
            "/usr/local/lib/python3.7/dist-packages/ipykernel_launcher.py:1: UserWarning: `Model.fit_generator` is deprecated and will be removed in a future version. Please use `Model.fit`, which supports generators.\n",
            "  \"\"\"Entry point for launching an IPython kernel.\n"
          ]
        },
        {
          "output_type": "stream",
          "name": "stdout",
          "text": [
            "Epoch 1/3\n",
            "30/50 [=================>............] - ETA: 14s - loss: 0.1772 - accuracy: 0.9383WARNING:tensorflow:Your input ran out of data; interrupting training. Make sure that your dataset or generator can generate at least `steps_per_epoch * epochs` batches (in this case, 150 batches). You may need to use the repeat() function when building your dataset.\n",
            "50/50 [==============================] - 27s 536ms/step - loss: 0.1772 - accuracy: 0.9383 - val_loss: 0.2281 - val_accuracy: 0.9400\n"
          ]
        },
        {
          "output_type": "execute_result",
          "data": {
            "text/plain": [
              "<keras.callbacks.History at 0x7f5ed6c88890>"
            ]
          },
          "metadata": {},
          "execution_count": 26
        }
      ]
    },
    {
      "cell_type": "markdown",
      "metadata": {
        "id": "LsB9w49ODHTf"
      },
      "source": [
        "Let's calculate the accuracy on the test set aswell."
      ]
    },
    {
      "cell_type": "code",
      "metadata": {
        "colab": {
          "base_uri": "https://localhost:8080/"
        },
        "id": "dg9uMx0fC-42",
        "outputId": "77213d4d-27d8-469b-c549-99d3b0e83605"
      },
      "source": [
        "test_err = model.evaluate(test_generator)\n",
        "print(\"Loss on test set:\", test_err[0], \"Accuracy on test set:\", test_err[1])"
      ],
      "execution_count": null,
      "outputs": [
        {
          "output_type": "stream",
          "name": "stdout",
          "text": [
            "15/15 [==============================] - 6s 395ms/step - loss: 0.1599 - accuracy: 0.9533\n",
            "Loss on test set: 0.15985926985740662 Accuracy on test set: 0.95333331823349\n"
          ]
        }
      ]
    },
    {
      "cell_type": "markdown",
      "metadata": {
        "id": "UW2ZeBLqDmx7"
      },
      "source": [
        "We can see that the accuracy on the train set is 93.8% on the validation set 94% and on the test set 95.3%."
      ]
    },
    {
      "cell_type": "markdown",
      "metadata": {
        "id": "IqnGF2kFECjv"
      },
      "source": [
        "Now unfreeze some layers of the base_model, and train further the neural network with some small learning rate sgd."
      ]
    },
    {
      "cell_type": "code",
      "metadata": {
        "id": "EmzALyjNDinh"
      },
      "source": [
        "for layer in model.layers[:280]:\n",
        "       layer.trainable = False\n",
        "for layer in model.layers[280:]:\n",
        "       layer.trainable = True"
      ],
      "execution_count": null,
      "outputs": []
    },
    {
      "cell_type": "code",
      "metadata": {
        "colab": {
          "base_uri": "https://localhost:8080/"
        },
        "id": "poLSKY34EPQy",
        "outputId": "db38b63d-a7ae-489f-f6c7-8832c5df67ab"
      },
      "source": [
        "model.compile(optimizer=SGD(lr=0.00001, momentum=0.9), metrics=['accuracy'], loss='categorical_crossentropy')"
      ],
      "execution_count": null,
      "outputs": [
        {
          "output_type": "stream",
          "name": "stderr",
          "text": [
            "/usr/local/lib/python3.7/dist-packages/keras/optimizer_v2/gradient_descent.py:102: UserWarning: The `lr` argument is deprecated, use `learning_rate` instead.\n",
            "  super(SGD, self).__init__(name, **kwargs)\n"
          ]
        }
      ]
    },
    {
      "cell_type": "code",
      "metadata": {
        "colab": {
          "base_uri": "https://localhost:8080/"
        },
        "id": "uAogY_uhETtg",
        "outputId": "324b5ec5-1d29-436a-c013-834bf71e7bb8"
      },
      "source": [
        "model.fit_generator(train_generator,steps_per_epoch=20,validation_data=validation_generator,validation_steps=10,epochs=3)"
      ],
      "execution_count": null,
      "outputs": [
        {
          "output_type": "stream",
          "name": "stderr",
          "text": [
            "/usr/local/lib/python3.7/dist-packages/ipykernel_launcher.py:1: UserWarning: `Model.fit_generator` is deprecated and will be removed in a future version. Please use `Model.fit`, which supports generators.\n",
            "  \"\"\"Entry point for launching an IPython kernel.\n"
          ]
        },
        {
          "output_type": "stream",
          "name": "stdout",
          "text": [
            "Epoch 1/3\n",
            "20/20 [==============================] - 27s 1s/step - loss: 0.1785 - accuracy: 0.9350 - val_loss: 0.2260 - val_accuracy: 0.9300\n",
            "Epoch 2/3\n",
            "20/20 [==============================] - 20s 1s/step - loss: 0.1677 - accuracy: 0.9475 - val_loss: 0.2199 - val_accuracy: 0.9400\n",
            "Epoch 3/3\n",
            "20/20 [==============================] - 20s 1000ms/step - loss: 0.1628 - accuracy: 0.9450 - val_loss: 0.1979 - val_accuracy: 0.9450\n"
          ]
        },
        {
          "output_type": "execute_result",
          "data": {
            "text/plain": [
              "<keras.callbacks.History at 0x7f5ed804f210>"
            ]
          },
          "metadata": {},
          "execution_count": 30
        }
      ]
    },
    {
      "cell_type": "code",
      "metadata": {
        "colab": {
          "base_uri": "https://localhost:8080/"
        },
        "id": "SQBjVKOwEk_1",
        "outputId": "7d630662-b8dc-4271-8f11-989961455f39"
      },
      "source": [
        "test_err = model.evaluate(test_generator)\n",
        "print(\"Loss on test set:\", test_err[0], \"Accuracy on test set:\", test_err[1])"
      ],
      "execution_count": null,
      "outputs": [
        {
          "output_type": "stream",
          "name": "stdout",
          "text": [
            "15/15 [==============================] - 6s 391ms/step - loss: 0.1643 - accuracy: 0.9467\n",
            "Loss on test set: 0.16426116228103638 Accuracy on test set: 0.9466666579246521\n"
          ]
        }
      ]
    },
    {
      "cell_type": "markdown",
      "metadata": {
        "id": "ts6wWwBtGo8m"
      },
      "source": [
        "We can see that the accuracy on the train set is 94.5% on the validation set 94.5% and on the test set 94.7%."
      ]
    }
  ]
}